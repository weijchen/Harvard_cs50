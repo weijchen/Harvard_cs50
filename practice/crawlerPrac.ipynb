{
 "cells": [
  {
   "cell_type": "code",
   "execution_count": 1,
   "metadata": {
    "collapsed": false
   },
   "outputs": [],
   "source": [
    "import requests\n",
    "from bs4 import BeautifulSoup"
   ]
  },
  {
   "cell_type": "code",
   "execution_count": 3,
   "metadata": {
    "collapsed": false
   },
   "outputs": [
    {
     "name": "stdout",
     "output_type": "stream",
     "text": [
      "請輸入定位元素，class -> . id -> #.去冰\n",
      "老闆的半糖去冰珍珠奶茶\n",
      "資深前輩的無糖去冰綠茶\n",
      "心儀同事的半糖去冰文山青茶\n"
     ]
    }
   ],
   "source": [
    "tag = input(\"請輸入定位元素，class -> . id -> #\")\n",
    "res = requests.get('http://pala.tw/class-id-example/')\n",
    "soup = BeautifulSoup(res.text, 'lxml')\n",
    "\n",
    "for drink in soup.select('{}'.format(tag)):\n",
    "    print(drink.get_text())"
   ]
  },
  {
   "cell_type": "code",
   "execution_count": null,
   "metadata": {
    "collapsed": true
   },
   "outputs": [],
   "source": []
  }
 ],
 "metadata": {
  "anaconda-cloud": {},
  "kernelspec": {
   "display_name": "Python [default]",
   "language": "python",
   "name": "python3"
  },
  "language_info": {
   "codemirror_mode": {
    "name": "ipython",
    "version": 3
   },
   "file_extension": ".py",
   "mimetype": "text/x-python",
   "name": "python",
   "nbconvert_exporter": "python",
   "pygments_lexer": "ipython3",
   "version": "3.5.2"
  }
 },
 "nbformat": 4,
 "nbformat_minor": 1
}
